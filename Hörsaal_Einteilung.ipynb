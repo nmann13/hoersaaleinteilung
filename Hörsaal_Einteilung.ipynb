{
 "cells": [
  {
   "cell_type": "markdown",
   "id": "626461e7-eb84-4b16-a014-8411a6cfe196",
   "metadata": {},
   "source": [
    "## Studierende einteilen - Workflow\n",
    "\n",
    "Die folgenden Zellen müssen zunächst ausgeführt werden (Shift + Enter) oder mit dem kleinen Dreieck in der Menüleiste."
   ]
  },
  {
   "cell_type": "code",
   "execution_count": 1,
   "id": "f5caf680-ff24-4025-8787-877bf9a27738",
   "metadata": {
    "scrolled": true
   },
   "outputs": [
    {
     "name": "stdout",
     "output_type": "stream",
     "text": [
      "Okay\n"
     ]
    }
   ],
   "source": [
    "from IPython.display import display, Markdown, FileLink\n",
    "import ipywidgets as widgets\n",
    "import math\n",
    "import pandas as pd\n",
    "import json\n",
    "import io\n",
    "from workflow import *\n"
   ]
  },
  {
   "cell_type": "markdown",
   "id": "c9bdd74d-073a-48e1-ab5e-7a0deaf87e8c",
   "metadata": {},
   "source": [
    "## Eingaben machen\n",
    "Bitte Prüfungsdatum wählen und Dateien zur Prüfung hochladen."
   ]
  },
  {
   "cell_type": "code",
   "execution_count": 2,
   "id": "8b829bc8-eae6-48ee-ab3e-d653e9ec5eaf",
   "metadata": {},
   "outputs": [
    {
     "data": {
      "application/vnd.jupyter.widget-view+json": {
       "model_id": "9d05dd5165d14be49423d1f672374803",
       "version_major": 2,
       "version_minor": 0
      },
      "text/plain": [
       "DatePicker(value=None, description='Datum:', step=1, style=DescriptionStyle(description_width='initial'))"
      ]
     },
     "metadata": {},
     "output_type": "display_data"
    },
    {
     "data": {
      "application/vnd.jupyter.widget-view+json": {
       "model_id": "a970167736db454db4f30979c810e829",
       "version_major": 2,
       "version_minor": 0
      },
      "text/plain": [
       "FileUpload(value=(), accept='.csv', description='csv-Liste der Studies', multiple=True)"
      ]
     },
     "metadata": {},
     "output_type": "display_data"
    },
    {
     "data": {
      "application/vnd.jupyter.widget-view+json": {
       "model_id": "e84fff6e33fa47c084d9803cf35b1e83",
       "version_major": 2,
       "version_minor": 0
      },
      "text/plain": [
       "HBox(children=(VBox(children=(HBox(children=(Checkbox(value=False, description='G00207'), IntText(value=44, la…"
      ]
     },
     "metadata": {},
     "output_type": "display_data"
    },
    {
     "data": {
      "application/vnd.jupyter.widget-view+json": {
       "model_id": "aba983733af24d189a41a7edb462d0fc",
       "version_major": 2,
       "version_minor": 0
      },
      "text/plain": [
       "Button(description='Einteilung starten', style=ButtonStyle())"
      ]
     },
     "metadata": {},
     "output_type": "display_data"
    },
    {
     "data": {
      "application/vnd.jupyter.widget-view+json": {
       "model_id": "b47498e30acf4e5cb58e7eb40f7ace7e",
       "version_major": 2,
       "version_minor": 0
      },
      "text/plain": [
       "Output()"
      ]
     },
     "metadata": {},
     "output_type": "display_data"
    }
   ],
   "source": [
    "display(date,student_uploader,grid, start_button, output)"
   ]
  }
 ],
 "metadata": {
  "kernelspec": {
   "display_name": "Python 3 (ipykernel)",
   "language": "python",
   "name": "python3"
  },
  "language_info": {
   "codemirror_mode": {
    "name": "ipython",
    "version": 3
   },
   "file_extension": ".py",
   "mimetype": "text/x-python",
   "name": "python",
   "nbconvert_exporter": "python",
   "pygments_lexer": "ipython3",
   "version": "3.11.10"
  }
 },
 "nbformat": 4,
 "nbformat_minor": 5
}
