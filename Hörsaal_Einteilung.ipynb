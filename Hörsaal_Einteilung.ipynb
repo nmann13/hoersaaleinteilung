{
 "cells": [
  {
   "cell_type": "markdown",
   "id": "626461e7-eb84-4b16-a014-8411a6cfe196",
   "metadata": {},
   "source": [
    "## Studierende einteilen - Workflow\n",
    "\n",
    "Die folgenden Zellen müssen zunächst ausgeführt werden (Shift + Enter) oder mit dem kleinen Dreieck in der Menüleiste."
   ]
  },
  {
   "cell_type": "code",
   "execution_count": 1,
   "id": "f5caf680-ff24-4025-8787-877bf9a27738",
   "metadata": {
    "scrolled": true
   },
   "outputs": [
    {
     "name": "stdout",
     "output_type": "stream",
     "text": [
      "Okay\n"
     ]
    }
   ],
   "source": [
    "!pip install chardet --quiet\n",
    "from IPython.display import display, Markdown, FileLink\n",
    "import ipywidgets as widgets\n",
    "import math\n",
    "import pandas as pd\n",
    "import json\n",
    "import io\n",
    "from workflow import *\n"
   ]
  },
  {
   "cell_type": "markdown",
   "id": "c9bdd74d-073a-48e1-ab5e-7a0deaf87e8c",
   "metadata": {},
   "source": [
    "## Eingaben machen\n",
    "Bitte Datei(en) zur Prüfung hochladen."
   ]
  },
  {
   "cell_type": "code",
   "execution_count": 2,
   "id": "8b829bc8-eae6-48ee-ab3e-d653e9ec5eaf",
   "metadata": {},
   "outputs": [
    {
     "data": {
      "application/vnd.jupyter.widget-view+json": {
       "model_id": "aabf8343fa974d879bf71b5501c183c5",
       "version_major": 2,
       "version_minor": 0
      },
      "text/plain": [
       "FileUpload(value=(), accept='.csv', description='csv-Liste der Studies', multiple=True)"
      ]
     },
     "metadata": {},
     "output_type": "display_data"
    },
    {
     "data": {
      "application/vnd.jupyter.widget-view+json": {
       "model_id": "58b24c3989be495a9c465d1bfb7666b6",
       "version_major": 2,
       "version_minor": 0
      },
      "text/plain": [
       "HBox(children=(VBox(children=(HBox(children=(Checkbox(value=False, description='G00207'), IntText(value=44, la…"
      ]
     },
     "metadata": {},
     "output_type": "display_data"
    },
    {
     "data": {
      "application/vnd.jupyter.widget-view+json": {
       "model_id": "6e0a7fb2f96d45e7bb3b14ec9c4002f6",
       "version_major": 2,
       "version_minor": 0
      },
      "text/plain": [
       "Button(description='Einteilung starten', style=ButtonStyle())"
      ]
     },
     "metadata": {},
     "output_type": "display_data"
    },
    {
     "data": {
      "application/vnd.jupyter.widget-view+json": {
       "model_id": "a685d35a288c42e1b58c71fcecc9132d",
       "version_major": 2,
       "version_minor": 0
      },
      "text/plain": [
       "Output()"
      ]
     },
     "metadata": {},
     "output_type": "display_data"
    }
   ],
   "source": [
    "display(student_uploader,grid, start_button, output)"
   ]
  }
 ],
 "metadata": {
  "kernelspec": {
   "display_name": "Python 3 (ipykernel)",
   "language": "python",
   "name": "python3"
  },
  "language_info": {
   "codemirror_mode": {
    "name": "ipython",
    "version": 3
   },
   "file_extension": ".py",
   "mimetype": "text/x-python",
   "name": "python",
   "nbconvert_exporter": "python",
   "pygments_lexer": "ipython3",
   "version": "3.11.10"
  }
 },
 "nbformat": 4,
 "nbformat_minor": 5
}
